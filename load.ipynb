{
 "cells": [
  {
   "cell_type": "code",
   "execution_count": 19,
   "metadata": {},
   "outputs": [],
   "source": [
    "import os\n",
    "from dotenv import load_dotenv\n",
    "import boto3\n",
    "import redshift_connector"
   ]
  },
  {
   "cell_type": "code",
   "execution_count": 20,
   "metadata": {},
   "outputs": [],
   "source": [
    "load_dotenv()\n",
    "\n",
    "client = boto3.client(\n",
    "    's3',\n",
    "    aws_access_key_id=os.getenv('AWS_ACCESS_KEY_ID'),\n",
    "    aws_secret_access_key=os.getenv('AWS_SECRET_ACCESS_KEY'),\n",
    ")"
   ]
  },
  {
   "cell_type": "code",
   "execution_count": 21,
   "metadata": {},
   "outputs": [],
   "source": [
    "conn = redshift_connector.connect(\n",
    "    host=os.getenv('REDSHIFT_HOST'),\n",
    "    database=os.getenv('REDSHIFT_DATABASE'),\n",
    "    user=os.getenv('REDSHIFT_USER'),\n",
    "    password=os.getenv('REDSHIFT_PASSWORD'),\n",
    "    port=os.getenv('REDSHIFT_PORT')\n",
    ")"
   ]
  },
  {
   "cell_type": "code",
   "execution_count": 22,
   "metadata": {},
   "outputs": [],
   "source": [
    "cursor = conn.cursor()"
   ]
  },
  {
   "cell_type": "code",
   "execution_count": 23,
   "metadata": {},
   "outputs": [],
   "source": [
    "def load_file_to_redshift(file_name):\n",
    "    table_name = file_name.split('.')[0]\n",
    "    client.upload_file(\n",
    "        Filename='./data/stage/{}'.format(file_name),\n",
    "        Bucket=os.getenv('AWS_BUCKET_NAME'),\n",
    "        Key='course_etl_target/{}'.format(file_name),\n",
    "    )\n",
    "    print('Archivo {} cargado'.format(file_name))\n",
    "    sentence = '''\n",
    "    copy public.{} from 's3://{}/course_etl_target/{}'\n",
    "    credentials 'aws_iam_role={}' csv delimiter '|' region 'us-east-2' ignoreheader 1;\n",
    "    '''.format(table_name, os.getenv('AWS_BUCKET_NAME'), file_name, os.getenv('AWS_ROLE_ARN'))\n",
    "    try:\n",
    "        cursor.execute(sentence)\n",
    "        print('Tabla {} cargada'.format(table_name))\n",
    "    except Exception as e:\n",
    "        print('Error en la tabla {}: {}'.format(table_name, e))"
   ]
  },
  {
   "cell_type": "code",
   "execution_count": 27,
   "metadata": {},
   "outputs": [
    {
     "name": "stdout",
     "output_type": "stream",
     "text": [
      "Archivo countries.csv cargado\n",
      "Error en la tabla countries: connection is closed\n"
     ]
    }
   ],
   "source": [
    "load_file_to_redshift('countries.csv')\n",
    "load_file_to_redshift('codes.csv')\n",
    "load_file_to_redshift('quantity.csv')\n",
    "load_file_to_redshift('flow.csv')\n",
    "load_file_to_redshift('years.csv')\n",
    "load_file_to_redshift('trades.csv')"
   ]
  },
  {
   "cell_type": "code",
   "execution_count": 25,
   "metadata": {},
   "outputs": [],
   "source": [
    "conn.commit()"
   ]
  },
  {
   "cell_type": "code",
   "execution_count": 26,
   "metadata": {},
   "outputs": [],
   "source": [
    "conn.close()"
   ]
  }
 ],
 "metadata": {
  "kernelspec": {
   "display_name": "venv",
   "language": "python",
   "name": "python3"
  },
  "language_info": {
   "codemirror_mode": {
    "name": "ipython",
    "version": 3
   },
   "file_extension": ".py",
   "mimetype": "text/x-python",
   "name": "python",
   "nbconvert_exporter": "python",
   "pygments_lexer": "ipython3",
   "version": "3.11.7"
  }
 },
 "nbformat": 4,
 "nbformat_minor": 2
}
